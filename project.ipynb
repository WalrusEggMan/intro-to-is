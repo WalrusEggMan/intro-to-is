{
  "nbformat": 4,
  "nbformat_minor": 0,
  "metadata": {
    "colab": {
      "name": "project.ipynb",
      "provenance": [],
      "private_outputs": true,
      "collapsed_sections": [],
      "toc_visible": true,
      "include_colab_link": true
    },
    "kernelspec": {
      "name": "python3",
      "display_name": "Python 3"
    },
    "accelerator": "GPU"
  },
  "cells": [
    {
      "cell_type": "markdown",
      "metadata": {
        "id": "view-in-github",
        "colab_type": "text"
      },
      "source": [
        "<a href=\"https://colab.research.google.com/github/WalrusEggMan/intro-to-is/blob/master/project.ipynb\" target=\"_parent\"><img src=\"https://colab.research.google.com/assets/colab-badge.svg\" alt=\"Open In Colab\"/></a>"
      ]
    },
    {
      "cell_type": "markdown",
      "metadata": {
        "id": "i914iwqvSGdW",
        "colab_type": "text"
      },
      "source": [
        "# New Section"
      ]
    },
    {
      "cell_type": "code",
      "metadata": {
        "id": "5Q5FKQClSDUM",
        "colab_type": "code",
        "colab": {}
      },
      "source": [
        "import pandas as pd\n",
        "\n",
        "url = 'https://raw.githubusercontent.com/WalrusEggMan/intro-to-is/master/data.csv'\n",
        "\n",
        "data = pd.read_csv(url, delimiter=',')\n",
        "data.head()\n",
        "data.info()\n",
        "data.describe()"
      ],
      "execution_count": 0,
      "outputs": []
    },
    {
      "cell_type": "markdown",
      "metadata": {
        "id": "8ki5niGnVk9w",
        "colab_type": "text"
      },
      "source": [
        "# New Section"
      ]
    },
    {
      "cell_type": "code",
      "metadata": {
        "id": "WrgY8cSNwo3y",
        "colab_type": "code",
        "colab": {}
      },
      "source": [
        "def fix_seniority_in_company(row):\n",
        "  if row['seniority in role(years)'] > row['seniority (years) in comapny']:\n",
        "    return int(row['seniority (years) in comapny'])\n",
        "  else:\n",
        "    return int(row['seniority in role(years)'])\n",
        "\n",
        "def fix_seniority_in_role(row):\n",
        "  if row['seniority in role(years)'] < row['seniority (years) in comapny']:\n",
        "    return int(row['seniority (years) in comapny'])\n",
        "  else:\n",
        "    return int(row['seniority in role(years)'])\n",
        "\n",
        "data['fix_sen_in_role'] = data.apply(fix_seniority_in_role,axis=1)\n",
        "data['fix_sen_in_comp'] = data.apply(fix_seniority_in_company,axis=1)\n",
        "data.head(3)"
      ],
      "execution_count": 0,
      "outputs": []
    },
    {
      "cell_type": "code",
      "metadata": {
        "id": "_jMlfuB23Anl",
        "colab_type": "code",
        "colab": {}
      },
      "source": [
        "\n",
        "\n",
        "#data[data.age - data['fixed_sen_in_role'] <= 16]\n",
        "#Create new df with clean data\n",
        "#Drop Invalid columns\n",
        "data.drop('seniority (years) in comapny', axis=1, inplace=True)\n",
        "data.drop('seniority in role(years)', axis=1, inplace=True)\n",
        "\n",
        "#Delete rows with wrong seniority in role\n",
        "clean_data = data[data.age - data['fix_sen_in_role'] > 16]\n",
        "clean_data = clean_data.reset_index(drop=True)\n",
        "clean_data.describe()\n",
        "#All values are not-null values\n"
      ],
      "execution_count": 0,
      "outputs": []
    },
    {
      "cell_type": "code",
      "metadata": {
        "id": "DIXh8lLg7Msx",
        "colab_type": "code",
        "colab": {}
      },
      "source": [
        "from pandas.plotting import scatter_matrix\n",
        "# scatter plot matrix\n",
        "#rename columns\n",
        "clean_data.rename(columns={'monthly return on loan': 'm_ret_loan', \n",
        "                           'how many children': 'childNo',\n",
        "                           'grade in last year review (0-10)': 'grade_l_year',\n",
        "                           'averaged grade of the BSC': 'avg_grade'}, inplace=True)\n",
        "#scatter_matrix(clean_data,figsize=(10,10))"
      ],
      "execution_count": 0,
      "outputs": []
    },
    {
      "cell_type": "code",
      "metadata": {
        "id": "OejnMpCeMmQR",
        "colab_type": "code",
        "colab": {}
      },
      "source": [
        "#Scatter for Age/Salary and Age/seniority in role pairs\n",
        "import seaborn as sns; sns.set()\n",
        "import matplotlib.pyplot as plt\n",
        "cmap = sns.cubehelix_palette(dark=.3, light=.8, as_cmap=True)\n",
        "ax = sns.scatterplot(x=\"age\", y=\"salary\", palette=cmap,\n",
        "                     data=clean_data[['age', 'salary']])\n",
        "ax.set_title(\"Age/Salary\")\n",
        "\n"
      ],
      "execution_count": 0,
      "outputs": []
    },
    {
      "cell_type": "code",
      "metadata": {
        "id": "AzQ2avjxRUFu",
        "colab_type": "code",
        "colab": {}
      },
      "source": [
        "ax = sns.scatterplot(x=\"age\", y=\"fix_sen_in_role\", palette=cmap,\n",
        "                     data=clean_data[['age', 'fix_sen_in_role']])\n",
        "ax.set_title(\"Age/Seniority in role(years)\")"
      ],
      "execution_count": 0,
      "outputs": []
    },
    {
      "cell_type": "code",
      "metadata": {
        "id": "wyLX4hTmTYdf",
        "colab_type": "code",
        "colab": {}
      },
      "source": [
        "normalized_df=(clean_data-clean_data.min())/(clean_data.max()-clean_data.min())\n",
        "ax = sns.scatterplot(x=\"age\", y=\"salary\", palette=cmap,\n",
        "                     data=normalized_df[['age', 'salary']])\n",
        "ax.set_title(\"Age/Salary (normalized by minmax)\")\n",
        "#normalized_df.head()\n"
      ],
      "execution_count": 0,
      "outputs": []
    },
    {
      "cell_type": "code",
      "metadata": {
        "id": "dYfkY96LXFH-",
        "colab_type": "code",
        "colab": {}
      },
      "source": [
        "ax = sns.scatterplot(x=\"age\", y=\"fix_sen_in_role\", palette=cmap,\n",
        "                     data=normalized_df[['age', 'fix_sen_in_role']])\n",
        "ax.set_title(\"Age/Seniority in role(normalized by minmax)\")"
      ],
      "execution_count": 0,
      "outputs": []
    },
    {
      "cell_type": "code",
      "metadata": {
        "id": "u9NlSmOGauFI",
        "colab_type": "code",
        "colab": {}
      },
      "source": [
        "def linear_regression_plot(x_name, y_name):\n",
        "  # Seperating the data into dependent and independent variables\n",
        "\n",
        "  # sns.regplot(x=\"age\", y=\"salary\",\n",
        "  #                      data=clean_data[['age', 'salary']]);\n",
        "\n",
        "  y = normalized_df[x_name].values\n",
        "  X = normalized_df[[y_name]].values\n",
        "\n",
        "\n",
        "  #Splitting the dataset into the Training set and Test set\n",
        "  from sklearn.model_selection import train_test_split\n",
        "  X_train, X_test, y_train, y_test = train_test_split(X, y, test_size = 0.2, random_state = 0)\n",
        "\n",
        "  # LinearRegression\n",
        "  from sklearn.linear_model import LinearRegression\n",
        "  # Create linear regression object\n",
        "  classifier = LinearRegression()\n",
        "  classifier.fit(X_train, y_train)\n",
        "\n",
        "  y_pred = classifier.predict(X_test)\n",
        "\n",
        "  from sklearn.metrics import mean_squared_error, r2_score, mean_absolute_error\n",
        "  # The coefficients\n",
        "  print('Coefficients: \\n', classifier.coef_)\n",
        "  # The mean squared error\n",
        "  print('Mean squared error: %.2f'\n",
        "        % mean_squared_error(y_test, y_pred))\n",
        "  # The mean error\n",
        "  print('Mean error: %.2f'\n",
        "        % mean_squared_error(y_test, y_pred, squared=False))\n",
        "  # The mean absolute error\n",
        "  print('Mean absolute error: %.2f'\n",
        "        % mean_absolute_error(y_test, y_pred))\n",
        "  # The coefficient of determination: 1 is perfect prediction\n",
        "  print('Coefficient of determination: %.2f'\n",
        "        % r2_score(y_test, y_pred))\n",
        "\n",
        "  # Plot outputs\n",
        "  # Test vs predicted data\n",
        "  plt.scatter(X_test, y_test,  color='blue')\n",
        "  plt.plot(X_test, y_pred, color='green', linewidth=3)\n",
        "\n",
        "  plt.xticks(())\n",
        "  plt.yticks(())\n",
        "\n",
        "  plt.show()\n",
        "\n",
        "linear_regression_plot('age', 'salary')"
      ],
      "execution_count": 0,
      "outputs": []
    },
    {
      "cell_type": "code",
      "metadata": {
        "id": "jV_RGoyLnfis",
        "colab_type": "code",
        "colab": {}
      },
      "source": [
        "linear_regression_plot('age', 'fix_sen_in_role')"
      ],
      "execution_count": 0,
      "outputs": []
    }
  ]
}