{
  "nbformat": 4,
  "nbformat_minor": 0,
  "metadata": {
    "colab": {
      "name": "project.ipynb",
      "provenance": [],
      "private_outputs": true,
      "collapsed_sections": [],
      "toc_visible": true,
      "include_colab_link": true
    },
    "kernelspec": {
      "name": "python3",
      "display_name": "Python 3"
    },
    "accelerator": "GPU"
  },
  "cells": [
    {
      "cell_type": "markdown",
      "metadata": {
        "id": "view-in-github",
        "colab_type": "text"
      },
      "source": [
        "<a href=\"https://colab.research.google.com/github/WalrusEggMan/intro-to-is/blob/master/project.ipynb\" target=\"_parent\"><img src=\"https://colab.research.google.com/assets/colab-badge.svg\" alt=\"Open In Colab\"/></a>"
      ]
    },
    {
      "cell_type": "markdown",
      "metadata": {
        "id": "i914iwqvSGdW",
        "colab_type": "text"
      },
      "source": [
        "# New Section"
      ]
    },
    {
      "cell_type": "code",
      "metadata": {
        "id": "5Q5FKQClSDUM",
        "colab_type": "code",
        "colab": {}
      },
      "source": [
        "import pandas as pd\n",
        "\n",
        "url = 'https://raw.githubusercontent.com/WalrusEggMan/intro-to-is/master/data.csv'\n",
        "\n",
        "data = pd.read_csv(url, delimiter=',')\n",
        "data.head()\n",
        "data.info()\n",
        "data.describe()"
      ],
      "execution_count": 0,
      "outputs": []
    },
    {
      "cell_type": "markdown",
      "metadata": {
        "id": "8ki5niGnVk9w",
        "colab_type": "text"
      },
      "source": [
        "# New Section"
      ]
    },
    {
      "cell_type": "code",
      "metadata": {
        "id": "WrgY8cSNwo3y",
        "colab_type": "code",
        "colab": {}
      },
      "source": [
        "def fix_seniority_in_company(row):\n",
        "  if row['seniority in role(years)'] > row['seniority (years) in comapny']:\n",
        "    return int(row['seniority (years) in comapny'])\n",
        "  else:\n",
        "    return int(row['seniority in role(years)'])\n",
        "\n",
        "def fix_seniority_in_role(row):\n",
        "  if row['seniority in role(years)'] < row['seniority (years) in comapny']:\n",
        "    return int(row['seniority (years) in comapny'])\n",
        "  else:\n",
        "    return int(row['seniority in role(years)'])\n",
        "\n",
        "data['fix_sen_in_role'] = data.apply(fix_seniority_in_role,axis=1)\n",
        "data['fix_sen_in_comp'] = data.apply(fix_seniority_in_company,axis=1)\n",
        "data.head(3)"
      ],
      "execution_count": 0,
      "outputs": []
    },
    {
      "cell_type": "code",
      "metadata": {
        "id": "_jMlfuB23Anl",
        "colab_type": "code",
        "colab": {}
      },
      "source": [
        "\n",
        "\n",
        "#data[data.age - data['fixed_sen_in_role'] <= 16]\n",
        "#Create new df with clean data\n",
        "#Drop Invalid columns\n",
        "data.drop('seniority (years) in comapny', axis=1, inplace=True)\n",
        "data.drop('seniority in role(years)', axis=1, inplace=True)\n",
        "\n",
        "#Delete rows with wrong seniority in role\n",
        "clean_data = data[data.age - data['fix_sen_in_role'] > 16]\n",
        "clean_data = clean_data.reset_index(drop=True)\n",
        "clean_data.describe()\n",
        "#All values are not-null values\n"
      ],
      "execution_count": 0,
      "outputs": []
    },
    {
      "cell_type": "code",
      "metadata": {
        "id": "DIXh8lLg7Msx",
        "colab_type": "code",
        "colab": {}
      },
      "source": [
        "from pandas.plotting import scatter_matrix\n",
        "# scatter plot matrix\n",
        "clean_data.rename(columns={'monthly return on loan': 'm_ret_loan', \n",
        "                           'how many children': 'childNo',\n",
        "                           'grade in last year review (0-10)': 'grade_l_year',\n",
        "                           'averaged grade of the BSC': 'avg_grade'}, inplace=True)\n",
        "scatter_matrix(clean_data,figsize=(10,10))"
      ],
      "execution_count": 0,
      "outputs": []
    },
    {
      "cell_type": "code",
      "metadata": {
        "id": "OejnMpCeMmQR",
        "colab_type": "code",
        "colab": {}
      },
      "source": [
        "#Scatter for Age/Salary and Age/seniority in role pairs\n",
        "import seaborn as sns; sns.set()\n",
        "import matplotlib.pyplot as plt\n",
        "cmap = sns.cubehelix_palette(dark=.3, light=.8, as_cmap=True)\n",
        "ax = sns.scatterplot(x=\"age\", y=\"salary\", palette=cmap,\n",
        "                     data=clean_data[['age', 'salary']])\n",
        "ax.set_title(\"Age/Salary\")\n",
        "\n"
      ],
      "execution_count": 0,
      "outputs": []
    },
    {
      "cell_type": "code",
      "metadata": {
        "id": "AzQ2avjxRUFu",
        "colab_type": "code",
        "colab": {}
      },
      "source": [
        "ax = sns.scatterplot(x=\"age\", y=\"fix_sen_in_role\", palette=cmap,\n",
        "                     data=clean_data[['age', 'fix_sen_in_role']])\n",
        "ax.set_title(\"Age/Seniority in role(years)\")"
      ],
      "execution_count": 0,
      "outputs": []
    },
    {
      "cell_type": "code",
      "metadata": {
        "id": "wyLX4hTmTYdf",
        "colab_type": "code",
        "colab": {}
      },
      "source": [
        "normalized_df=(clean_data-clean_data.min())/(clean_data.max()-clean_data.min())\n",
        "ax = sns.scatterplot(x=\"age\", y=\"salary\", palette=cmap,\n",
        "                     data=normalized_df[['age', 'salary']])\n",
        "ax.set_title(\"Age/Salary (normalized by minmax)\")\n",
        "#normalized_df.head()\n"
      ],
      "execution_count": 0,
      "outputs": []
    },
    {
      "cell_type": "code",
      "metadata": {
        "id": "dYfkY96LXFH-",
        "colab_type": "code",
        "colab": {}
      },
      "source": [
        "ax = sns.scatterplot(x=\"age\", y=\"fix_sen_in_role\", palette=cmap,\n",
        "                     data=normalized_df[['age', 'fix_sen_in_role']])\n",
        "ax.set_title(\"Age/Seniority in role(normalized by minmax)\")"
      ],
      "execution_count": 0,
      "outputs": []
    }
  ]
}