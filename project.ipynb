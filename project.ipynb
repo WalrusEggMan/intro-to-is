{
  "nbformat": 4,
  "nbformat_minor": 0,
  "metadata": {
    "colab": {
      "name": "project.ipynb",
      "provenance": [],
      "private_outputs": true,
      "collapsed_sections": [],
      "toc_visible": true,
      "include_colab_link": true
    },
    "kernelspec": {
      "name": "python3",
      "display_name": "Python 3"
    },
    "accelerator": "GPU"
  },
  "cells": [
    {
      "cell_type": "markdown",
      "metadata": {
        "id": "view-in-github",
        "colab_type": "text"
      },
      "source": [
        "<a href=\"https://colab.research.google.com/github/WalrusEggMan/intro-to-is/blob/master/project.ipynb\" target=\"_parent\"><img src=\"https://colab.research.google.com/assets/colab-badge.svg\" alt=\"Open In Colab\"/></a>"
      ]
    },
    {
      "cell_type": "markdown",
      "metadata": {
        "id": "i914iwqvSGdW",
        "colab_type": "text"
      },
      "source": [
        "# New Section"
      ]
    },
    {
      "cell_type": "code",
      "metadata": {
        "id": "5Q5FKQClSDUM",
        "colab_type": "code",
        "colab": {}
      },
      "source": [
        "import pandas as pd\n",
        "\n",
        "url = 'https://raw.githubusercontent.com/WalrusEggMan/intro-to-is/master/data.csv'\n",
        "\n",
        "data = pd.read_csv(url, delimiter=',')\n",
        "data.head()\n"
      ],
      "execution_count": 0,
      "outputs": []
    },
    {
      "cell_type": "markdown",
      "metadata": {
        "id": "8ki5niGnVk9w",
        "colab_type": "text"
      },
      "source": [
        "# New Section"
      ]
    },
    {
      "cell_type": "code",
      "metadata": {
        "id": "WrgY8cSNwo3y",
        "colab_type": "code",
        "colab": {}
      },
      "source": [
        "def fix_seniority_in_company(row):\n",
        "  if row['seniority in role(years)'] > row['seniority (years) in comapny']:\n",
        "    return int(row['seniority (years) in comapny'])\n",
        "  else:\n",
        "    return int(row['seniority in role(years)'])\n",
        "\n",
        "def fix_seniority_in_role(row):\n",
        "  if row['seniority in role(years)'] < row['seniority (years) in comapny']:\n",
        "    return int(row['seniority (years) in comapny'])\n",
        "  else:\n",
        "    return int(row['seniority in role(years)'])\n",
        "\n",
        "data['fixed_sen_in_role'] = data.apply(fix_seniority_in_role,axis=1)\n",
        "data['fix_sen_in_comp'] = data.apply(fix_seniority_in_company,axis=1)\n",
        "data.head(3)"
      ],
      "execution_count": 0,
      "outputs": []
    },
    {
      "cell_type": "code",
      "metadata": {
        "id": "_jMlfuB23Anl",
        "colab_type": "code",
        "colab": {}
      },
      "source": [
        "data.describe()\n",
        "\n",
        "data[data.age - data['fixed_sen_in_role'] <= 16]\n",
        "#Create new df with clean data\n",
        "#Delete rows with wrong seniority in role\n",
        "data.drop('seniority (years) in comapny', axis=1, inplace=True)\n",
        "data.drop('seniority in role(years)', axis=1, inplace=True)\n",
        "data_clean = data[data.age - data['fixed_sen_in_role'] > 16]\n",
        "data_clean = data_clean.reset_index(drop=True)\n",
        "data_clean.describe()\n",
        "#All values are not-null values\n"
      ],
      "execution_count": 0,
      "outputs": []
    },
    {
      "cell_type": "code",
      "metadata": {
        "id": "qw3eZPFA5aWQ",
        "colab_type": "code",
        "colab": {}
      },
      "source": [
        "\n",
        "import matplotlib.pyplot as plt\n",
        "\n",
        "fig, ax = plt.subplots(2, 8, figsize=(16, 4))\n",
        "\n",
        "i = 0\n",
        "j = 0\n",
        "\n",
        "for c in data_clean.columns[1:12]:\n",
        "    ax[j, i].hist(data_clean[c])\n",
        "    ax[j, i].set_title(c)\n",
        "    i = i + 1\n",
        "    if i == 8:\n",
        "        j = 1\n",
        "        i = 0\n",
        "\n",
        "fig.subplots_adjust(hspace=1, wspace=0.2)\n",
        "plt.show()\n"
      ],
      "execution_count": 0,
      "outputs": []
    },
    {
      "cell_type": "code",
      "metadata": {
        "id": "DIXh8lLg7Msx",
        "colab_type": "code",
        "colab": {}
      },
      "source": [
        "from pandas.plotting import scatter_matrix\n",
        "# scatter plot matrix\n",
        "scatter_matrix(data_clean,figsize=(10,10))"
      ],
      "execution_count": 0,
      "outputs": []
    }
  ]
}